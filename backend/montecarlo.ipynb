{
 "cells": [
  {
   "cell_type": "code",
   "execution_count": 2,
   "id": "25d0a2c8-e2e7-478a-8543-bfd2c8f47f28",
   "metadata": {
    "tags": []
   },
   "outputs": [],
   "source": [
    "%load_ext autoreload\n",
    "%autoreload 2\n",
    "\n",
    "import tqdm\n",
    "import matplotlib.pyplot as plt\n",
    "import scipy.stats as sps\n",
    "import seaborn as sns\n",
    "import numpy as np\n",
    "from scipy.stats import norm, stats\n",
    "\n",
    "def calculate_percentile(sample, mean, std_dev):\n",
    "    z_score = (sample - mean) / std_dev  # Calculate the z-score\n",
    "    percentile = norm.cdf(z_score) * 100  # Calculate the percentile\n",
    "    return percentile\n",
    "\n",
    "from parse_genome import AlzheimerRiskProfiler"
   ]
  },
  {
   "cell_type": "code",
   "execution_count": 87,
   "id": "124d77f6-0a3d-4160-8635-5681b8b768f1",
   "metadata": {
    "tags": []
   },
   "outputs": [
    {
     "name": "stderr",
     "output_type": "stream",
     "text": [
      "100%|███████████████████████████████████████████████████████████████████████████| 10000/10000 [00:15<00:00, 629.31it/s]\n"
     ]
    }
   ],
   "source": [
    "profiler = AlzheimerRiskProfiler(None)\n",
    "\n",
    "pop_size = 1_000_0\n",
    "\n",
    "pop_prs = np.zeros(pop_size)\n",
    "for i in tqdm.tqdm(range(pop_size)):\n",
    "    genome_dict = profiler.create_synthetic_genome_dict()\n",
    "    prs = profiler.get_prs(genome_dict)\n",
    "    pop_prs[i] = prs"
   ]
  },
  {
   "cell_type": "code",
   "execution_count": 88,
   "id": "c85b33da-f45b-49cc-8337-03113ed4d402",
   "metadata": {
    "tags": []
   },
   "outputs": [
    {
     "name": "stdout",
     "output_type": "stream",
     "text": [
      "0.337115 0.4937868637124726\n"
     ]
    },
    {
     "data": {
      "text/plain": [
       "<Axes: ylabel='Density'>"
      ]
     },
     "execution_count": 88,
     "metadata": {},
     "output_type": "execute_result"
    },
    {
     "data": {
      "image/png": "[encoded data removed]",
      "text/plain": [
       "<Figure size 480x240 with 1 Axes>"
      ]
     },
     "metadata": {},
     "output_type": "display_data"
    }
   ],
   "source": [
    "mu = np.mean(pop_prs)\n",
    "sigma = np.std(pop_prs)\n",
    "\n",
    "print(mu, sigma)\n",
    "plt.figure(figsize=(6, 3), dpi=80)\n",
    "sns.kdeplot(pop_prs)\n"
   ]
  },
  {
   "cell_type": "code",
   "execution_count": 4,
   "id": "b03c3714-ff79-4416-a673-43092e89cb1d",
   "metadata": {
    "tags": []
   },
   "outputs": [
    {
     "ename": "TypeError",
     "evalue": "unsupported operand type(s) for -: 'NoneType' and 'float'",
     "output_type": "error",
     "traceback": [
      "\u001b[1;31m---------------------------------------------------------------------------\u001b[0m",
      "\u001b[1;31mTypeError\u001b[0m                                 Traceback (most recent call last)",
      "Cell \u001b[1;32mIn[4], line 4\u001b[0m\n\u001b[0;32m      1\u001b[0m profiler \u001b[38;5;241m=\u001b[39m AlzheimerRiskProfiler(\u001b[38;5;28mopen\u001b[39m(\u001b[38;5;124mr\u001b[39m\u001b[38;5;124m'\u001b[39m\u001b[38;5;124mC:\u001b[39m\u001b[38;5;124m\\\u001b[39m\u001b[38;5;124mUsers\u001b[39m\u001b[38;5;124m\\\u001b[39m\u001b[38;5;124mpcgou\u001b[39m\u001b[38;5;124m\\\u001b[39m\u001b[38;5;124mDownloads\u001b[39m\u001b[38;5;124m\\\u001b[39m\u001b[38;5;124mexample.txt\u001b[39m\u001b[38;5;124m'\u001b[39m, \u001b[38;5;124m'\u001b[39m\u001b[38;5;124mrb\u001b[39m\u001b[38;5;124m'\u001b[39m))\n\u001b[0;32m      2\u001b[0m sample \u001b[38;5;241m=\u001b[39m profiler\u001b[38;5;241m.\u001b[39mget_risk()\n\u001b[1;32m----> 4\u001b[0m calculate_percentile(sample, mu, sigma)\n",
      "Cell \u001b[1;32mIn[1], line 12\u001b[0m, in \u001b[0;36mcalculate_percentile\u001b[1;34m(sample, mean, std_dev)\u001b[0m\n\u001b[0;32m     11\u001b[0m \u001b[38;5;28;01mdef\u001b[39;00m \u001b[38;5;21mcalculate_percentile\u001b[39m(sample, mean, std_dev):\n\u001b[1;32m---> 12\u001b[0m     z_score \u001b[38;5;241m=\u001b[39m (sample \u001b[38;5;241m-\u001b[39m mean) \u001b[38;5;241m/\u001b[39m std_dev  \u001b[38;5;66;03m# Calculate the z-score\u001b[39;00m\n\u001b[0;32m     13\u001b[0m     percentile \u001b[38;5;241m=\u001b[39m norm\u001b[38;5;241m.\u001b[39mcdf(z_score) \u001b[38;5;241m*\u001b[39m \u001b[38;5;241m100\u001b[39m  \u001b[38;5;66;03m# Calculate the percentile\u001b[39;00m\n\u001b[0;32m     14\u001b[0m     \u001b[38;5;28;01mreturn\u001b[39;00m percentile\n",
      "\u001b[1;31mTypeError\u001b[0m: unsupported operand type(s) for -: 'NoneType' and 'float'"
     ]
    }
   ],
   "source": [
    "\n",
    "\n",
    "profiler = AlzheimerRiskProfiler(open(r'C:\\Users\\pcgou\\Downloads\\example.txt', 'rb'))\n",
    "sample = profiler.get_risk()\n",
    "\n",
    "calculate_percentile(sample, mu, sigma)"
   ]
  },
  {
   "cell_type": "code",
   "execution_count": 91,
   "id": "0a56de9c-9948-4cec-93fc-b68251bfcc47",
   "metadata": {
    "tags": []
   },
   "outputs": [
    {
     "name": "stderr",
     "output_type": "stream",
     "text": [
      "100%|███████████████████████████████████████████████████████████████████████| 1000000/1000000 [52:31<00:00, 317.31it/s]\n"
     ]
    }
   ],
   "source": [
    "profiler = AlzheimerRiskProfiler(None)\n",
    "\n",
    "pop_size = 1_000_000\n",
    "\n",
    "pop_overall_risk = np.zeros(pop_size)\n",
    "for i in tqdm.tqdm(range(pop_size)):\n",
    "    genome_dict = profiler.create_synthetic_genome_dict()\n",
    "    prs = profiler.get_prs(genome_dict)\n",
    "    overall_risk = profiler.get_overall_risk(prs, genome_dict)\n",
    "    pop_overall_risk[i] = overall_risk"
   ]
  },
  {
   "cell_type": "code",
   "execution_count": 92,
   "id": "3ce2cf99-a988-4415-9d6c-b5ed3b0df895",
   "metadata": {
    "tags": []
   },
   "outputs": [
    {
     "name": "stdout",
     "output_type": "stream",
     "text": [
      "0.3537653500000001 0.6590824759006854\n"
     ]
    },
    {
     "data": {
      "text/plain": [
       "<Axes: ylabel='Density'>"
      ]
     },
     "execution_count": 92,
     "metadata": {},
     "output_type": "execute_result"
    },
    {
     "data": {
      "image/png": "[encoded data removed]",
      "text/plain": [
       "<Figure size 480x240 with 1 Axes>"
      ]
     },
     "metadata": {},
     "output_type": "display_data"
    }
   ],
   "source": [
    "mu = np.mean(pop_overall_risk)\n",
    "sigma = np.std(pop_overall_risk)\n",
    "\n",
    "print(mu, sigma)\n",
    "plt.figure(figsize=(6, 3), dpi=80)\n",
    "sns.kdeplot(pop_overall_risk)\n"
   ]
  },
  {
   "cell_type": "code",
   "execution_count": 93,
   "id": "c6968b46-3060-4fb2-aa78-1605508932c2",
   "metadata": {
    "tags": []
   },
   "outputs": [],
   "source": [
    "percentiles = np.linspace(0, 1, 1000+1)[1:-1]\n",
    "idx = (percentiles * len(pop_overall_risk)).astype(int)\n",
    "\n",
    "sorted_pop_overall_risk = np.array(sorted(pop_overall_risk))\n",
    "distribution = sorted_pop_overall_risk[idx]"
   ]
  },
  {
   "cell_type": "code",
   "execution_count": 94,
   "id": "0d3138c8-c5f7-4242-89c3-baafa49dcdf1",
   "metadata": {
    "tags": []
   },
   "outputs": [],
   "source": [
    "import pandas as pd\n",
    "df = pd.DataFrame(np.array([percentiles, distribution]).T, columns=['percentile', 'score'])\n",
    "df.to_csv('overall_risk_score_simulation_results', index=False)"
   ]
  },
  {
   "cell_type": "code",
   "execution_count": 81,
   "id": "83597d50-8c70-4621-945b-bf2498fe5c67",
   "metadata": {
    "tags": []
   },
   "outputs": [
    {
     "data": {
      "text/html": [
       "<div>\n",
       "<style scoped>\n",
       "    .dataframe tbody tr th:only-of-type {\n",
       "        vertical-align: middle;\n",
       "    }\n",
       "\n",
       "    .dataframe tbody tr th {\n",
       "        vertical-align: top;\n",
       "    }\n",
       "\n",
       "    .dataframe thead th {\n",
       "        text-align: right;\n",
       "    }\n",
       "</style>\n",
       "<table border=\"1\" class=\"dataframe\">\n",
       "  <thead>\n",
       "    <tr style=\"text-align: right;\">\n",
       "      <th></th>\n",
       "      <th>percentile</th>\n",
       "      <th>score</th>\n",
       "    </tr>\n",
       "  </thead>\n",
       "  <tbody>\n",
       "    <tr>\n",
       "      <th>0</th>\n",
       "      <td>0.001</td>\n",
       "      <td>-1.31</td>\n",
       "    </tr>\n",
       "    <tr>\n",
       "      <th>1</th>\n",
       "      <td>0.002</td>\n",
       "      <td>-1.20</td>\n",
       "    </tr>\n",
       "    <tr>\n",
       "      <th>2</th>\n",
       "      <td>0.003</td>\n",
       "      <td>-1.13</td>\n",
       "    </tr>\n",
       "    <tr>\n",
       "      <th>3</th>\n",
       "      <td>0.004</td>\n",
       "      <td>-1.07</td>\n",
       "    </tr>\n",
       "    <tr>\n",
       "      <th>4</th>\n",
       "      <td>0.005</td>\n",
       "      <td>-1.03</td>\n",
       "    </tr>\n",
       "    <tr>\n",
       "      <th>...</th>\n",
       "      <td>...</td>\n",
       "      <td>...</td>\n",
       "    </tr>\n",
       "    <tr>\n",
       "      <th>994</th>\n",
       "      <td>0.995</td>\n",
       "      <td>2.73</td>\n",
       "    </tr>\n",
       "    <tr>\n",
       "      <th>995</th>\n",
       "      <td>0.996</td>\n",
       "      <td>2.80</td>\n",
       "    </tr>\n",
       "    <tr>\n",
       "      <th>996</th>\n",
       "      <td>0.997</td>\n",
       "      <td>2.90</td>\n",
       "    </tr>\n",
       "    <tr>\n",
       "      <th>997</th>\n",
       "      <td>0.998</td>\n",
       "      <td>3.01</td>\n",
       "    </tr>\n",
       "    <tr>\n",
       "      <th>998</th>\n",
       "      <td>0.999</td>\n",
       "      <td>3.19</td>\n",
       "    </tr>\n",
       "  </tbody>\n",
       "</table>\n",
       "<p>999 rows × 2 columns</p>\n",
       "</div>"
      ],
      "text/plain": [
       "     percentile  score\n",
       "0         0.001  -1.31\n",
       "1         0.002  -1.20\n",
       "2         0.003  -1.13\n",
       "3         0.004  -1.07\n",
       "4         0.005  -1.03\n",
       "..          ...    ...\n",
       "994       0.995   2.73\n",
       "995       0.996   2.80\n",
       "996       0.997   2.90\n",
       "997       0.998   3.01\n",
       "998       0.999   3.19\n",
       "\n",
       "[999 rows x 2 columns]"
      ]
     },
     "execution_count": 81,
     "metadata": {},
     "output_type": "execute_result"
    }
   ],
   "source": [
    "df"
   ]
  },
  {
   "cell_type": "code",
   "execution_count": 5,
   "id": "eb81516a-70d2-4bf6-9571-fcc327d436f1",
   "metadata": {
    "tags": []
   },
   "outputs": [
    {
     "ename": "NameError",
     "evalue": "name 'pd' is not defined",
     "output_type": "error",
     "traceback": [
      "\u001b[1;31m---------------------------------------------------------------------------\u001b[0m",
      "\u001b[1;31mNameError\u001b[0m                                 Traceback (most recent call last)",
      "Cell \u001b[1;32mIn[5], line 4\u001b[0m\n\u001b[0;32m      1\u001b[0m \u001b[38;5;28;01mdef\u001b[39;00m \u001b[38;5;21mget_percentile\u001b[39m(sample, score, percentiles):\n\u001b[0;32m      2\u001b[0m     \u001b[38;5;28;01mreturn\u001b[39;00m percentiles[np\u001b[38;5;241m.\u001b[39margmin(np\u001b[38;5;241m.\u001b[39mabs(score \u001b[38;5;241m-\u001b[39m (sample)))] \u001b[38;5;241m*\u001b[39m \u001b[38;5;241m100\u001b[39m\n\u001b[1;32m----> 4\u001b[0m df \u001b[38;5;241m=\u001b[39m pd\u001b[38;5;241m.\u001b[39mread_csv(\u001b[38;5;124m'\u001b[39m\u001b[38;5;124moverall_risk_score_simulation_results\u001b[39m\u001b[38;5;124m'\u001b[39m)\n\u001b[0;32m      6\u001b[0m get_percentile(\u001b[38;5;241m0.36\u001b[39m, df\u001b[38;5;241m.\u001b[39mscore, df\u001b[38;5;241m.\u001b[39mpercentile)\n",
      "\u001b[1;31mNameError\u001b[0m: name 'pd' is not defined"
     ]
    }
   ],
   "source": [
    "def get_percentile(sample, score, percentiles):\n",
    "    return percentiles[np.argmin(np.abs(score - (sample)))] * 100\n",
    "\n",
    "df = pd.read_csv('overall_risk_score_simulation_results')\n",
    "\n",
    "get_percentile(0.36, df.score, df.percentile)"
   ]
  },
  {
   "cell_type": "code",
   "execution_count": 2,
   "id": "1460765a-2d66-4282-944c-99f00056143a",
   "metadata": {
    "tags": []
   },
   "outputs": [],
   "source": [
    "import pandas as pd\n",
    "df = pd.read_csv('percentile_to_risk.csv')\n",
    "\n",
    "def get_risk_from_percentile(percentile, gender):\n",
    "    return df.loc[df['Percentile'] == percentile, gender].values[0]\n",
    "\n",
    "def get_risk_with_intervention(percentile, gender):\n",
    "    raw_risk = get_risk_from_percentile(percentile, gender)\n",
    "    risk_with_intervention = raw_risk * 0.4 \n",
    "    return df.iloc[(df[gender] - risk_with_intervention).abs().argsort()[0]]['Percentile']\n",
    "    "
   ]
  },
  {
   "cell_type": "code",
   "execution_count": 3,
   "id": "9136e598-536f-44d0-9166-99eb14f51f5d",
   "metadata": {
    "tags": []
   },
   "outputs": [
    {
     "ename": "IndexError",
     "evalue": "index 0 is out of bounds for axis 0 with size 0",
     "output_type": "error",
     "traceback": [
      "\u001b[1;31m---------------------------------------------------------------------------\u001b[0m",
      "\u001b[1;31mIndexError\u001b[0m                                Traceback (most recent call last)",
      "Cell \u001b[1;32mIn[3], line 1\u001b[0m\n\u001b[1;32m----> 1\u001b[0m get_risk_with_intervention(\u001b[38;5;241m70.2\u001b[39m,\u001b[38;5;124m'\u001b[39m\u001b[38;5;124mFemale\u001b[39m\u001b[38;5;124m'\u001b[39m)\n",
      "Cell \u001b[1;32mIn[2], line 8\u001b[0m, in \u001b[0;36mget_risk_with_intervention\u001b[1;34m(percentile, gender)\u001b[0m\n\u001b[0;32m      7\u001b[0m \u001b[38;5;28;01mdef\u001b[39;00m \u001b[38;5;21mget_risk_with_intervention\u001b[39m(percentile, gender):\n\u001b[1;32m----> 8\u001b[0m     raw_risk \u001b[38;5;241m=\u001b[39m get_risk_from_percentile(percentile, gender)\n\u001b[0;32m      9\u001b[0m     risk_with_intervention \u001b[38;5;241m=\u001b[39m raw_risk \u001b[38;5;241m*\u001b[39m \u001b[38;5;241m0.4\u001b[39m \n\u001b[0;32m     10\u001b[0m     \u001b[38;5;28;01mreturn\u001b[39;00m df\u001b[38;5;241m.\u001b[39miloc[(df[gender] \u001b[38;5;241m-\u001b[39m risk_with_intervention)\u001b[38;5;241m.\u001b[39mabs()\u001b[38;5;241m.\u001b[39margsort()[\u001b[38;5;241m0\u001b[39m]][\u001b[38;5;124m'\u001b[39m\u001b[38;5;124mPercentile\u001b[39m\u001b[38;5;124m'\u001b[39m]\n",
      "Cell \u001b[1;32mIn[2], line 5\u001b[0m, in \u001b[0;36mget_risk_from_percentile\u001b[1;34m(percentile, gender)\u001b[0m\n\u001b[0;32m      4\u001b[0m \u001b[38;5;28;01mdef\u001b[39;00m \u001b[38;5;21mget_risk_from_percentile\u001b[39m(percentile, gender):\n\u001b[1;32m----> 5\u001b[0m     \u001b[38;5;28;01mreturn\u001b[39;00m df\u001b[38;5;241m.\u001b[39mloc[df[\u001b[38;5;124m'\u001b[39m\u001b[38;5;124mPercentile\u001b[39m\u001b[38;5;124m'\u001b[39m] \u001b[38;5;241m==\u001b[39m percentile, gender]\u001b[38;5;241m.\u001b[39mvalues[\u001b[38;5;241m0\u001b[39m]\n",
      "\u001b[1;31mIndexError\u001b[0m: index 0 is out of bounds for axis 0 with size 0"
     ]
    }
   ],
   "source": [
    "get_risk_with_intervention(70.2,'Female')"
   ]
  },
  {
   "cell_type": "code",
   "execution_count": null,
   "id": "0a5587e2-bd99-4939-b590-49a18ee1f307",
   "metadata": {},
   "outputs": [],
   "source": []
  }
 ],
 "metadata": {
  "kernelspec": {
   "display_name": "Python 3 (ipykernel)",
   "language": "python",
   "name": "python3"
  },
  "language_info": {
   "codemirror_mode": {
    "name": "ipython",
    "version": 3
   },
   "file_extension": ".py",
   "mimetype": "text/x-python",
   "name": "python",
   "nbconvert_exporter": "python",
   "pygments_lexer": "ipython3",
   "version": "3.11.3"
  }
 },
 "nbformat": 4,
 "nbformat_minor": 5
}
