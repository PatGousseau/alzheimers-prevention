{
 "cells": [
  {
   "cell_type": "code",
   "execution_count": 1,
   "id": "25d0a2c8-e2e7-478a-8543-bfd2c8f47f28",
   "metadata": {
    "tags": []
   },
   "outputs": [],
   "source": [
    "import tqdm\n",
    "import matplotlib.pyplot as plt\n",
    "import scipy.stats as sps\n",
    "import seaborn as sns\n",
    "import numpy as np\n",
    "from scipy.stats import norm\n",
    "\n",
    "def calculate_percentile(sample, mean, std_dev):\n",
    "    z_score = (sample - mean) / std_dev  # Calculate the z-score\n",
    "    percentile = norm.cdf(z_score) * 100  # Calculate the percentile\n",
    "    return percentile\n",
    "\n",
    "from parse_genome import AlzheimerRiskProfiler"
   ]
  },
  {
   "cell_type": "code",
   "execution_count": 2,
   "id": "124d77f6-0a3d-4160-8635-5681b8b768f1",
   "metadata": {},
   "outputs": [
    {
     "name": "stderr",
     "output_type": "stream",
     "text": [
      "100%|█████████████████████████████████████████████████████████████████████| 1000000/1000000 [00:23<00:00, 42986.77it/s]\n"
     ]
    }
   ],
   "source": [
    "profiler = AlzheimerRiskProfiler(None)\n",
    "\n",
    "pop_size = 1_000_000\n",
    "\n",
    "pop_prs = np.zeros(pop_size)\n",
    "for i in tqdm.tqdm(range(pop_size)):\n",
    "    genome_dict = profiler.create_synthetic_genome_dict()\n",
    "    prs = profiler.get_prs(genome_dict)\n",
    "    pop_prs[i] = prs"
   ]
  },
  {
   "cell_type": "code",
   "execution_count": 14,
   "id": "c85b33da-f45b-49cc-8337-03113ed4d402",
   "metadata": {
    "tags": []
   },
   "outputs": [
    {
     "name": "stdout",
     "output_type": "stream",
     "text": [
      "0.34411544189562 0.2390461770780585\n"
     ]
    }
   ],
   "source": [
    "mu = np.mean(pop_prs)\n",
    "sigma = np.std(pop_prs)\n",
    "\n",
    "print(mu, sigma)\n",
    "# plt.figure(figsize=(6, 3), dpi=80)\n",
    "# sns.kdeplot(pop_prs)"
   ]
  },
  {
   "cell_type": "code",
   "execution_count": 15,
   "id": "b03c3714-ff79-4416-a673-43092e89cb1d",
   "metadata": {
    "tags": []
   },
   "outputs": [
    {
     "data": {
      "text/plain": [
       "56.8951710888987"
      ]
     },
     "execution_count": 15,
     "metadata": {},
     "output_type": "execute_result"
    }
   ],
   "source": [
    "\n",
    "\n",
    "profiler = AlzheimerRiskProfiler(open(r'C:\\Users\\pcgou\\Downloads\\example.txt', 'rb'))\n",
    "sample = profiler.get_risk()\n",
    "\n",
    "calculate_percentile(sample, mu, sigma)"
   ]
  }
 ],
 "metadata": {
  "kernelspec": {
   "display_name": "Python 3 (ipykernel)",
   "language": "python",
   "name": "python3"
  },
  "language_info": {
   "codemirror_mode": {
    "name": "ipython",
    "version": 3
   },
   "file_extension": ".py",
   "mimetype": "text/x-python",
   "name": "python",
   "nbconvert_exporter": "python",
   "pygments_lexer": "ipython3",
   "version": "3.11.3"
  }
 },
 "nbformat": 4,
 "nbformat_minor": 5
}
