{
 "cells": [
  {
   "cell_type": "code",
   "execution_count": 1,
   "id": "25d0a2c8-e2e7-478a-8543-bfd2c8f47f28",
   "metadata": {
    "tags": []
   },
   "outputs": [],
   "source": [
    "%load_ext autoreload\n",
    "%autoreload 2\n",
    "\n",
    "import tqdm\n",
    "import matplotlib.pyplot as plt\n",
    "import scipy.stats as sps\n",
    "import seaborn as sns\n",
    "import numpy as np\n",
    "from scipy.stats import norm\n",
    "\n",
    "def calculate_percentile(sample, mean, std_dev):\n",
    "    z_score = (sample - mean) / std_dev  # Calculate the z-score\n",
    "    percentile = norm.cdf(z_score) * 100  # Calculate the percentile\n",
    "    return percentile\n",
    "\n",
    "from parse_genome import AlzheimerRiskProfiler"
   ]
  },
  {
   "cell_type": "code",
   "execution_count": 2,
   "id": "124d77f6-0a3d-4160-8635-5681b8b768f1",
   "metadata": {},
   "outputs": [
    {
     "name": "stderr",
     "output_type": "stream",
     "text": [
      "100%|██████████████████████████████████████████████████████████████████████| 1000000/1000000 [02:05<00:00, 7964.46it/s]\n"
     ]
    }
   ],
   "source": [
    "profiler = AlzheimerRiskProfiler(None)\n",
    "\n",
    "pop_size = 1_000_000\n",
    "\n",
    "pop_prs = np.zeros(pop_size)\n",
    "for i in tqdm.tqdm(range(pop_size)):\n",
    "    genome_dict = profiler.create_synthetic_genome_dict()\n",
    "    prs = profiler.get_prs(genome_dict)\n",
    "    pop_prs[i] = prs"
   ]
  },
  {
   "cell_type": "code",
   "execution_count": 5,
   "id": "c85b33da-f45b-49cc-8337-03113ed4d402",
   "metadata": {
    "tags": []
   },
   "outputs": [
    {
     "name": "stdout",
     "output_type": "stream",
     "text": [
      "0.3413453599999998 0.49243292092067764\n"
     ]
    },
    {
     "data": {
      "text/plain": [
       "<Axes: ylabel='Density'>"
      ]
     },
     "execution_count": 5,
     "metadata": {},
     "output_type": "execute_result"
    },
    {
     "data": {
      "image/png": "[encoded data removed]",
      "text/plain": [
       "<Figure size 480x240 with 1 Axes>"
      ]
     },
     "metadata": {},
     "output_type": "display_data"
    }
   ],
   "source": [
    "mu = np.mean(pop_prs)\n",
    "sigma = np.std(pop_prs)\n",
    "\n",
    "print(mu, sigma)\n",
    "plt.figure(figsize=(6, 3), dpi=80)\n",
    "sns.kdeplot(pop_prs)\n"
   ]
  },
  {
   "cell_type": "code",
   "execution_count": 4,
   "id": "b03c3714-ff79-4416-a673-43092e89cb1d",
   "metadata": {
    "tags": []
   },
   "outputs": [
    {
     "ename": "TypeError",
     "evalue": "unsupported operand type(s) for -: 'NoneType' and 'float'",
     "output_type": "error",
     "traceback": [
      "\u001b[1;31m---------------------------------------------------------------------------\u001b[0m",
      "\u001b[1;31mTypeError\u001b[0m                                 Traceback (most recent call last)",
      "Cell \u001b[1;32mIn[4], line 4\u001b[0m\n\u001b[0;32m      1\u001b[0m profiler \u001b[38;5;241m=\u001b[39m AlzheimerRiskProfiler(\u001b[38;5;28mopen\u001b[39m(\u001b[38;5;124mr\u001b[39m\u001b[38;5;124m'\u001b[39m\u001b[38;5;124mC:\u001b[39m\u001b[38;5;124m\\\u001b[39m\u001b[38;5;124mUsers\u001b[39m\u001b[38;5;124m\\\u001b[39m\u001b[38;5;124mpcgou\u001b[39m\u001b[38;5;124m\\\u001b[39m\u001b[38;5;124mDownloads\u001b[39m\u001b[38;5;124m\\\u001b[39m\u001b[38;5;124mexample.txt\u001b[39m\u001b[38;5;124m'\u001b[39m, \u001b[38;5;124m'\u001b[39m\u001b[38;5;124mrb\u001b[39m\u001b[38;5;124m'\u001b[39m))\n\u001b[0;32m      2\u001b[0m sample \u001b[38;5;241m=\u001b[39m profiler\u001b[38;5;241m.\u001b[39mget_risk()\n\u001b[1;32m----> 4\u001b[0m calculate_percentile(sample, mu, sigma)\n",
      "Cell \u001b[1;32mIn[1], line 12\u001b[0m, in \u001b[0;36mcalculate_percentile\u001b[1;34m(sample, mean, std_dev)\u001b[0m\n\u001b[0;32m     11\u001b[0m \u001b[38;5;28;01mdef\u001b[39;00m \u001b[38;5;21mcalculate_percentile\u001b[39m(sample, mean, std_dev):\n\u001b[1;32m---> 12\u001b[0m     z_score \u001b[38;5;241m=\u001b[39m (sample \u001b[38;5;241m-\u001b[39m mean) \u001b[38;5;241m/\u001b[39m std_dev  \u001b[38;5;66;03m# Calculate the z-score\u001b[39;00m\n\u001b[0;32m     13\u001b[0m     percentile \u001b[38;5;241m=\u001b[39m norm\u001b[38;5;241m.\u001b[39mcdf(z_score) \u001b[38;5;241m*\u001b[39m \u001b[38;5;241m100\u001b[39m  \u001b[38;5;66;03m# Calculate the percentile\u001b[39;00m\n\u001b[0;32m     14\u001b[0m     \u001b[38;5;28;01mreturn\u001b[39;00m percentile\n",
      "\u001b[1;31mTypeError\u001b[0m: unsupported operand type(s) for -: 'NoneType' and 'float'"
     ]
    }
   ],
   "source": [
    "\n",
    "\n",
    "profiler = AlzheimerRiskProfiler(open(r'C:\\Users\\pcgou\\Downloads\\example.txt', 'rb'))\n",
    "sample = profiler.get_risk()\n",
    "\n",
    "calculate_percentile(sample, mu, sigma)"
   ]
  },
  {
   "cell_type": "code",
   "execution_count": null,
   "id": "0a56de9c-9948-4cec-93fc-b68251bfcc47",
   "metadata": {},
   "outputs": [],
   "source": []
  },
  {
   "cell_type": "code",
   "execution_count": null,
   "id": "3ce2cf99-a988-4415-9d6c-b5ed3b0df895",
   "metadata": {},
   "outputs": [],
   "source": []
  }
 ],
 "metadata": {
  "kernelspec": {
   "display_name": "Python 3 (ipykernel)",
   "language": "python",
   "name": "python3"
  },
  "language_info": {
   "codemirror_mode": {
    "name": "ipython",
    "version": 3
   },
   "file_extension": ".py",
   "mimetype": "text/x-python",
   "name": "python",
   "nbconvert_exporter": "python",
   "pygments_lexer": "ipython3",
   "version": "3.11.3"
  }
 },
 "nbformat": 4,
 "nbformat_minor": 5
}
