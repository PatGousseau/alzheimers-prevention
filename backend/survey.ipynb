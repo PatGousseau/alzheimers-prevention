{
 "cells": [
  {
   "cell_type": "code",
   "execution_count": 17,
   "id": "98d6421a-093b-4214-9ea4-2b70eeb43371",
   "metadata": {
    "tags": []
   },
   "outputs": [
    {
     "name": "stdout",
     "output_type": "stream",
     "text": [
      "{'header': 'Demographic', 'question': 'What is your race?', 'options': ['Biracial/Multiracial // East Asian // Indigenous // Middle Eastern/North African // South Asian // White', 'Black/African American // Hispanic/Latino', 'Other // Prefer not to say'], 'tooltipText': 'The ability to perform moderate exercise such as running or biking at a sustained pace for several minutes at a time helps us understand your cardiovascular health, which determines how well your brain is oxygenated.'}\n"
     ]
    }
   ],
   "source": [
    "QUESTIONS = {\n",
    "    \"q1\": {\n",
    "        \"question_id\": 1,\n",
    "        \"weight\": 3,\n",
    "        \"adj_weight\": 1,\n",
    "        \"question_info\": {\n",
    "            \"header\": \"Demographic\",\n",
    "            \"question\": \"What is your age? [birth year]?\",\n",
    "            \"options\": [\"<40\", \"40-54\", \"55-64\", \"65-74\", \"75+\"],\n",
    "            \"tooltipText\": \"The ability to perform moderate exercise such as running or biking at a sustained pace for several minutes at a time helps us understand your cardiovascular health, which determines how well your brain is oxygenated.\"\n",
    "        }\n",
    "    },\n",
    "        \"q2\": {\n",
    "        \"question_id\": 2,\n",
    "        \"weight\": 2,\n",
    "        \"adj_weight\": 1,\n",
    "        \"question_info\": {\n",
    "            \"header\": \"Demographic\",\n",
    "            \"question\": \"What is your sex?\",\n",
    "            \"options\": [\"Male\", \"Female\", \"Prefer not to say\"],\n",
    "            \"tooltipText\": \"The ability to perform moderate exercise such as running or biking at a sustained pace for several minutes at a time helps us understand your cardiovascular health, which determines how well your brain is oxygenated.\"\n",
    "        }\n",
    "    },\n",
    "        \"q3\": {\n",
    "        \"question_id\": 3,\n",
    "        \"weight\": 1,\n",
    "        \"adj_weight\": 1,\n",
    "        \"question_info\": {\n",
    "            \"header\": \"Demographic\",\n",
    "            \"question\": \"What is your race?\",\n",
    "            \"options\": [\"Biracial/Multiracial // East Asian // Indigenous // Middle Eastern/North African // South Asian // White\",\"Black/African American // Hispanic/Latino\",\"Other // Prefer not to say\"],\n",
    "            \"tooltipText\": \"The ability to perform moderate exercise such as running or biking at a sustained pace for several minutes at a time helps us understand your cardiovascular health, which determines how well your brain is oxygenated.\"\n",
    "        }\n",
    "    }\n",
    "}\n",
    "\n",
    "print(QUESTIONS[\"q3\"][\"question_info\"])\n"
   ]
  },
  {
   "cell_type": "code",
   "execution_count": null,
   "id": "ad5f2c27-2980-4335-b1ca-3ab35bba6f05",
   "metadata": {},
   "outputs": [],
   "source": []
  }
 ],
 "metadata": {
  "kernelspec": {
   "display_name": "Python 3 (ipykernel)",
   "language": "python",
   "name": "python3"
  },
  "language_info": {
   "codemirror_mode": {
    "name": "ipython",
    "version": 3
   },
   "file_extension": ".py",
   "mimetype": "text/x-python",
   "name": "python",
   "nbconvert_exporter": "python",
   "pygments_lexer": "ipython3",
   "version": "3.11.3"
  }
 },
 "nbformat": 4,
 "nbformat_minor": 5
}
